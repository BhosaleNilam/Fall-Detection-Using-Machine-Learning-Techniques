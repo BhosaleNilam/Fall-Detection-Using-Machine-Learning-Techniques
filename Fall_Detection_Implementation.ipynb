{
  "cells": [
    {
      "cell_type": "markdown",
      "source": [
        "Import libraries required to execute the code."
      ],
      "metadata": {
        "id": "SkTeAZmrY59T"
      }
    },
    {
      "cell_type": "code",
      "execution_count": null,
      "metadata": {
        "_cell_guid": "992dd7d3-8411-41c7-ac23-e5e9ba52c351",
        "_kg_hide-input": true,
        "_uuid": "fd1479a9-ae02-4a7d-9ce4-36764e7b6caa",
        "id": "at117vcoVrUi"
      },
      "outputs": [],
      "source": [
        "import numpy as np\n",
        "import pandas as pd \n",
        "\n",
        "import matplotlib.pyplot as plotAxis\n",
        "import seaborn as sns\n",
        "\n",
        "from sklearn.model_selection import train_test_split\n",
        "from sklearn.preprocessing import StandardScaler\n",
        "from sklearn.preprocessing import MinMaxScaler \n",
        "from sklearn.neighbors import KNeighborsClassifier\n",
        "from sklearn.ensemble import RandomForestClassifier\n",
        "from sklearn.svm import SVC\n",
        "\n",
        "from sklearn.model_selection import cross_val_score, StratifiedKFold, RandomizedSearchCV\n",
        "from sklearn.metrics import confusion_matrix, accuracy_score, classification_report \n"
      ]
    },
    {
      "cell_type": "markdown",
      "source": [
        "Load data file from the below mentioned location."
      ],
      "metadata": {
        "id": "XOmY3jtNZFCo"
      }
    },
    {
      "cell_type": "code",
      "execution_count": null,
      "metadata": {
        "_cell_guid": "5f965910-eaf2-4ec8-968f-2566d658235c",
        "_uuid": "ca146952-6a90-44ac-8fab-5075a3a160c0",
        "colab": {
          "base_uri": "https://localhost:8080/"
        },
        "id": "6ZMJJFXrVrUn",
        "outputId": "2ee1dbdb-7145-4d5a-9afe-db0ce0ea169d"
      },
      "outputs": [
        {
          "name": "stdout",
          "output_type": "stream",
          "text": [
            "   ACTIVITY      TIME         SL      EEG  BP   HR  CIRCLUATION\n",
            "0         3   4722.92    4019.64 -1600.00  13   79          317\n",
            "1         2   4059.12    2191.03 -1146.08  20   54          165\n",
            "2         2   4773.56    2787.99 -1263.38  46   67          224\n",
            "3         4   8271.27    9545.98 -2848.93  26  138          554\n",
            "4         4   7102.16   14148.80 -2381.15  85  120          809\n",
            "5         5   7015.24    7336.79 -1699.80  22   95          427\n",
            "6         3   8620.28   24949.90 -3198.06  35  157         1519\n",
            "7         3   9238.73   39245.50 -2590.00  15  196         1885\n",
            "8         0  12276.40   59742.00 -5101.00  56  249         2826\n",
            "9         4  14165.50  140950.00 -1410.00  82  315         5844\n"
          ]
        }
      ],
      "source": [
        "# Reading data from csv file\n",
        "#df = pd.read_csv(\"C:/Users/jaish/Downloads/ResearchMethodology/Project/Final/falldetection.csv\", sep=\",\")\n",
        "df = pd.read_csv(\"/content/falldeteciton.csv\", sep=\",\")\n",
        "print(df.head(10))"
      ]
    },
    {
      "cell_type": "code",
      "execution_count": null,
      "metadata": {
        "_cell_guid": "82f65d94-688c-4ea1-8b48-356151dfb1cd",
        "_uuid": "307a62a5-c2a3-4d1a-8240-d1040f8dec31",
        "colab": {
          "base_uri": "https://localhost:8080/",
          "height": 300
        },
        "id": "2d0A3DsuVrUu",
        "outputId": "592eaabe-eeb5-4cc0-ada1-ad075df7cb2f"
      },
      "outputs": [
        {
          "data": {
            "text/html": [
              "<div>\n",
              "<style scoped>\n",
              "    .dataframe tbody tr th:only-of-type {\n",
              "        vertical-align: middle;\n",
              "    }\n",
              "\n",
              "    .dataframe tbody tr th {\n",
              "        vertical-align: top;\n",
              "    }\n",
              "\n",
              "    .dataframe thead th {\n",
              "        text-align: right;\n",
              "    }\n",
              "</style>\n",
              "<table border=\"1\" class=\"dataframe\">\n",
              "  <thead>\n",
              "    <tr style=\"text-align: right;\">\n",
              "      <th></th>\n",
              "      <th>TIME</th>\n",
              "      <th>SL</th>\n",
              "      <th>EEG</th>\n",
              "      <th>BP</th>\n",
              "      <th>HR</th>\n",
              "      <th>CIRCLUATION</th>\n",
              "    </tr>\n",
              "  </thead>\n",
              "  <tbody>\n",
              "    <tr>\n",
              "      <th>count</th>\n",
              "      <td>16382.000000</td>\n",
              "      <td>1.638200e+04</td>\n",
              "      <td>1.638200e+04</td>\n",
              "      <td>16382.000000</td>\n",
              "      <td>16382.000000</td>\n",
              "      <td>16382.000000</td>\n",
              "    </tr>\n",
              "    <tr>\n",
              "      <th>mean</th>\n",
              "      <td>10936.842478</td>\n",
              "      <td>7.527198e+04</td>\n",
              "      <td>-5.621125e+03</td>\n",
              "      <td>58.251068</td>\n",
              "      <td>211.536992</td>\n",
              "      <td>2894.341472</td>\n",
              "    </tr>\n",
              "    <tr>\n",
              "      <th>std</th>\n",
              "      <td>5261.463601</td>\n",
              "      <td>1.275022e+05</td>\n",
              "      <td>1.082209e+05</td>\n",
              "      <td>48.292926</td>\n",
              "      <td>129.949521</td>\n",
              "      <td>3825.927830</td>\n",
              "    </tr>\n",
              "    <tr>\n",
              "      <th>min</th>\n",
              "      <td>1954.230000</td>\n",
              "      <td>4.222420e+01</td>\n",
              "      <td>-1.262600e+07</td>\n",
              "      <td>0.000000</td>\n",
              "      <td>33.000000</td>\n",
              "      <td>5.000000</td>\n",
              "    </tr>\n",
              "    <tr>\n",
              "      <th>25%</th>\n",
              "      <td>7263.685000</td>\n",
              "      <td>9.941170e+03</td>\n",
              "      <td>-5.630000e+03</td>\n",
              "      <td>25.000000</td>\n",
              "      <td>119.000000</td>\n",
              "      <td>587.000000</td>\n",
              "    </tr>\n",
              "    <tr>\n",
              "      <th>50%</th>\n",
              "      <td>9769.355000</td>\n",
              "      <td>3.118920e+04</td>\n",
              "      <td>-3.361275e+03</td>\n",
              "      <td>44.000000</td>\n",
              "      <td>180.000000</td>\n",
              "      <td>1581.000000</td>\n",
              "    </tr>\n",
              "    <tr>\n",
              "      <th>75%</th>\n",
              "      <td>13481.650000</td>\n",
              "      <td>8.076145e+04</td>\n",
              "      <td>-2.150000e+03</td>\n",
              "      <td>78.000000</td>\n",
              "      <td>271.000000</td>\n",
              "      <td>3539.000000</td>\n",
              "    </tr>\n",
              "    <tr>\n",
              "      <th>max</th>\n",
              "      <td>50895.500000</td>\n",
              "      <td>2.426140e+06</td>\n",
              "      <td>1.410000e+06</td>\n",
              "      <td>533.000000</td>\n",
              "      <td>986.000000</td>\n",
              "      <td>52210.000000</td>\n",
              "    </tr>\n",
              "  </tbody>\n",
              "</table>\n",
              "</div>"
            ],
            "text/plain": [
              "               TIME            SL           EEG            BP            HR  \\\n",
              "count  16382.000000  1.638200e+04  1.638200e+04  16382.000000  16382.000000   \n",
              "mean   10936.842478  7.527198e+04 -5.621125e+03     58.251068    211.536992   \n",
              "std     5261.463601  1.275022e+05  1.082209e+05     48.292926    129.949521   \n",
              "min     1954.230000  4.222420e+01 -1.262600e+07      0.000000     33.000000   \n",
              "25%     7263.685000  9.941170e+03 -5.630000e+03     25.000000    119.000000   \n",
              "50%     9769.355000  3.118920e+04 -3.361275e+03     44.000000    180.000000   \n",
              "75%    13481.650000  8.076145e+04 -2.150000e+03     78.000000    271.000000   \n",
              "max    50895.500000  2.426140e+06  1.410000e+06    533.000000    986.000000   \n",
              "\n",
              "        CIRCLUATION  \n",
              "count  16382.000000  \n",
              "mean    2894.341472  \n",
              "std     3825.927830  \n",
              "min        5.000000  \n",
              "25%      587.000000  \n",
              "50%     1581.000000  \n",
              "75%     3539.000000  \n",
              "max    52210.000000  "
            ]
          },
          "execution_count": 4,
          "metadata": {},
          "output_type": "execute_result"
        }
      ],
      "source": [
        "# Describe the dataframe columns\n",
        "# We will discard activity column as that is a nominal attribute\n",
        "df.iloc[:,1:7].describe()"
      ]
    },
    {
      "cell_type": "code",
      "execution_count": null,
      "metadata": {
        "_cell_guid": "8a0fc891-ff25-404e-a91b-cfff7cfefda7",
        "_uuid": "b8d289d1-55d6-4b00-b9db-1942a4aefdff",
        "colab": {
          "base_uri": "https://localhost:8080/"
        },
        "id": "SxoG7SgzVrU0",
        "outputId": "1568d332-5182-4496-de63-4241b84a256e"
      },
      "outputs": [
        {
          "name": "stdout",
          "output_type": "stream",
          "text": [
            "0    4608\n",
            "1     502\n",
            "2    2502\n",
            "3    3588\n",
            "4    3494\n",
            "5    1688\n",
            "Name: ACTIVITY, dtype: int64\n"
          ]
        }
      ],
      "source": [
        "ACTIVITY_COUNT = df['ACTIVITY'].value_counts().sort_index()\n",
        "print(ACTIVITY_COUNT)"
      ]
    },
    {
      "cell_type": "markdown",
      "source": [
        "Plot the Pie chart for all the activities.\n"
      ],
      "metadata": {
        "id": "AtnkcLq0ZUhF"
      }
    },
    {
      "cell_type": "code",
      "execution_count": null,
      "metadata": {
        "_cell_guid": "2ac0d3c2-08e1-4e24-b508-c41080405054",
        "_uuid": "9e20f6fb-c8b0-4c04-81df-3bf6fa5ee200",
        "colab": {
          "base_uri": "https://localhost:8080/",
          "height": 248
        },
        "id": "4COh7infVrU1",
        "outputId": "bdfc2694-5098-4aa0-f7fc-6c163e188d5b"
      },
      "outputs": [
        {
          "data": {
            "image/png": "[encoded data removed]",
            "text/plain": [
              "<Figure size 432x288 with 1 Axes>"
            ]
          },
          "metadata": {},
          "output_type": "display_data"
        }
      ],
      "source": [
        "ACTIVITY_DICT = {0:'Standing', 1:'Walking', 2:'Sitting', 3:'Falling', 4:'Cramps', 5:'Running'}\n",
        "ACTIVITY_KEYS = list(ACTIVITY_DICT.keys())\n",
        "activities = list(ACTIVITY_DICT.values())\n",
        "area = [ACTIVITY_COUNT[0], ACTIVITY_COUNT[1], ACTIVITY_COUNT[2], ACTIVITY_COUNT[3], ACTIVITY_COUNT[4], ACTIVITY_COUNT[5]]\n",
        "explode = (0, 0, 0, 0.1, 0, 0)  # only \"explode\" the 2nd slice (i.e. 'Hogs')\n",
        "\n",
        "Figure1, Axes1 = plotAxis.subplots()\n",
        "Axes1.pie(area, labels=activities, explode = explode, autopct='%1.1f%%', startangle = 90, counterclock=False, shadow=False)\n",
        "Axes1.axis('equal')\n",
        "plotAxis.show()"
      ]
    },
    {
      "cell_type": "code",
      "execution_count": null,
      "metadata": {
        "_cell_guid": "4c544fb7-c20f-4650-9b58-e6d88697fb77",
        "_uuid": "79888d93-2094-4715-bd13-712fe99c7b8b",
        "colab": {
          "base_uri": "https://localhost:8080/",
          "height": 285
        },
        "id": "zz3o2j0lVrU3",
        "outputId": "7a5f746c-eb62-4aa0-94c7-9b256f72121a"
      },
      "outputs": [
        {
          "data": {
            "image/png": "[encoded data removed]",
            "text/plain": [
              "<Figure size 432x288 with 1 Axes>"
            ]
          },
          "metadata": {},
          "output_type": "display_data"
        }
      ],
      "source": [
        "sns.set(style=\"darkgrid\")\n",
        "Axes = sns.countplot(y='ACTIVITY', data=df)\n",
        "Axes.set_yticklabels(activities);"
      ]
    },
    {
      "cell_type": "markdown",
      "source": [
        "Created pivot_table"
      ],
      "metadata": {
        "id": "WUhzid5aZcUr"
      }
    },
    {
      "cell_type": "code",
      "execution_count": null,
      "metadata": {
        "_cell_guid": "7c544d1f-9390-4a67-983f-2c572402501b",
        "_uuid": "02448acc-666d-4906-b48b-1c4f3f08e6f1",
        "colab": {
          "base_uri": "https://localhost:8080/"
        },
        "id": "TEznnprEVrU7",
        "outputId": "ed928637-9023-4b72-88e6-0a16065b5fa6"
      },
      "outputs": [
        {
          "name": "stdout",
          "output_type": "stream",
          "text": [
            "          BP  CIRCLUATION      EEG     HR        SL       TIME\n",
            "ACTIVITY                                                      \n",
            "0         50         2321 -5280.00  224.5  51477.50  11316.500\n",
            "1         21          343 -1435.00   85.0   4770.05   5725.915\n",
            "2         42          587 -2200.00  128.0   9759.73   7569.470\n",
            "3         42         1922 -3110.00  196.0  39215.35  10124.150\n",
            "4         47         1415 -3069.75  174.0  27563.65   9577.390\n",
            "5         46         1747 -3254.80  179.0  30372.85   9472.360\n"
          ]
        }
      ],
      "source": [
        "\n",
        "Column_Names = ['TIME','SL','EEG','BP','HR','CIRCLUATION']\n",
        "Pivot_Table = df.pivot_table(Column_Names,\n",
        "               ['ACTIVITY'], aggfunc='median')\n",
        "print(Pivot_Table)"
      ]
    },
    {
      "cell_type": "markdown",
      "source": [
        "Created Correlation matrix to check the relationship between two varibales or features."
      ],
      "metadata": {
        "id": "DnnzLW0oZeeg"
      }
    },
    {
      "cell_type": "code",
      "execution_count": null,
      "metadata": {
        "_cell_guid": "78f33a5d-889b-4ed7-b644-526323f221ed",
        "_uuid": "c44ef279-da7b-4868-8631-6517ced81d11",
        "colab": {
          "base_uri": "https://localhost:8080/",
          "height": 822
        },
        "id": "AxsnF_ZIVrU8",
        "outputId": "e0f5e35c-9494-4dd9-af8c-2a7dc085fb15"
      },
      "outputs": [
        {
          "name": "stdout",
          "output_type": "stream",
          "text": [
            "                 TIME        SL       EEG        BP        HR  CIRCLUATION\n",
            "TIME         1.000000  0.843200 -0.048278  0.442334  0.973901     0.876956\n",
            "SL           0.843200  1.000000 -0.050946  0.401064  0.859408     0.978060\n",
            "EEG         -0.048278 -0.050946  1.000000 -0.049892 -0.050316    -0.050408\n",
            "BP           0.442334  0.401064 -0.049892  1.000000  0.469164     0.419356\n",
            "HR           0.973901  0.859408 -0.050316  0.469164  1.000000     0.904160\n",
            "CIRCLUATION  0.876956  0.978060 -0.050408  0.419356  0.904160     1.000000\n"
          ]
        },
        {
          "data": {
            "image/png": "[encoded data removed]",
            "text/plain": [
              "<Figure size 1080x792 with 2 Axes>"
            ]
          },
          "metadata": {},
          "output_type": "display_data"
        }
      ],
      "source": [
        "# Correlation matrix\n",
        "unstage = df.drop('ACTIVITY', axis=1)\n",
        "Correlation = unstage.corr()\n",
        "print(Correlation)\n",
        "# Plot figsize\n",
        "Figure, Axes = plotAxis.subplots(figsize=(15, 11))\n",
        "# Generate Color Map\n",
        "Map_Color = sns.diverging_palette(220, 10, as_cmap=True)\n",
        "# Generate Heat Map, allow annotations and place floats in map\n",
        "sns.heatmap(Correlation, cmap=Map_Color, annot=True, fmt=\".2f\")\n",
        "Axes.set_xticklabels(\n",
        "    Column_Names,\n",
        "    rotation=45,\n",
        "    horizontalalignment='right'\n",
        ");\n",
        "Axes.set_yticklabels(Column_Names);"
      ]
    },
    {
      "cell_type": "code",
      "execution_count": null,
      "metadata": {
        "_cell_guid": "03d4cecb-d505-4edb-87c4-77fa4ec8aa00",
        "_uuid": "ce74bdd3-3ebe-402e-a8ae-44fbb65e21c7",
        "colab": {
          "base_uri": "https://localhost:8080/",
          "height": 516
        },
        "id": "5q8bLIzGVrU9",
        "outputId": "72b0b62f-ad53-478a-c5d0-19a188b1c0d5"
      },
      "outputs": [
        {
          "name": "stdout",
          "output_type": "stream",
          "text": [
            "          TIME        SL       EEG        BP\n",
            "TIME  1.000000  0.843200 -0.048278  0.442334\n",
            "SL    0.843200  1.000000 -0.050946  0.401064\n",
            "EEG  -0.048278 -0.050946  1.000000 -0.049892\n",
            "BP    0.442334  0.401064 -0.049892  1.000000\n"
          ]
        },
        {
          "data": {
            "image/png": "[encoded data removed]",
            "text/plain": [
              "<Figure size 576x432 with 2 Axes>"
            ]
          },
          "metadata": {},
          "output_type": "display_data"
        }
      ],
      "source": [
        "\n",
        "# Correlation matrix\n",
        "unstage = df.drop(['ACTIVITY','HR','CIRCLUATION'], axis=1)\n",
        "Correlation = unstage.corr()\n",
        "print(Correlation)\n",
        "# Plot figsize\n",
        "Figure, Axes = plotAxis.subplots(figsize=(8, 6))\n",
        "# Generate Color Map\n",
        "colormap = sns.diverging_palette(220, 10, as_cmap=True)\n",
        "# Generate Heat Map, allow annotations and place floats in map\n",
        "sns.heatmap(Correlation, cmap=colormap, annot=True, fmt=\".2f\")\n",
        "Axes.set_xticklabels(\n",
        "    ['TIME','SL','EEG','BP'],\n",
        "    rotation=45,\n",
        "    horizontalalignment='right'\n",
        ");\n",
        "Axes.set_yticklabels(['TIME','SL','EEG','BP']);"
      ]
    },
    {
      "cell_type": "markdown",
      "source": [
        "Removed outliers from dataset df"
      ],
      "metadata": {
        "id": "h65cra-YZvXn"
      }
    },
    {
      "cell_type": "code",
      "execution_count": null,
      "metadata": {
        "_cell_guid": "2daaa80f-9778-4123-b446-cd5ab5f28ec2",
        "_uuid": "0b5b80c7-7402-47a1-965e-4cbb272917b6",
        "colab": {
          "base_uri": "https://localhost:8080/"
        },
        "id": "n4FsDxPkVrVD",
        "outputId": "422e1a26-407c-49c4-fc5f-bb766f57eddd"
      },
      "outputs": [
        {
          "data": {
            "text/plain": [
              "(14203, 7)"
            ]
          },
          "execution_count": 14,
          "metadata": {},
          "output_type": "execute_result"
        }
      ],
      "source": [
        "Quantile1 = df.quantile(0.25)\n",
        "Quantile2 = df.quantile(0.75)\n",
        "Quantile_Difference = Quantile2 - Quantile1\n",
        "dataframe_out = df[~((df < (Quantile1 - 1.5 * Quantile_Difference)) |(df > (Quantile2 + 1.5 * Quantile_Difference))).any(axis=1)]\n",
        "dataframe_out.shape"
      ]
    },
    {
      "cell_type": "markdown",
      "source": [
        "Created a new column called Decision. This column will contain the values of 0 = 'No Fall', 1 = 'Fall' using following rule: Activity Value : 3 --> Fall, else --> No Fall\n"
      ],
      "metadata": {
        "id": "2Q-vrIOrZziD"
      }
    },
    {
      "cell_type": "code",
      "execution_count": null,
      "metadata": {
        "_cell_guid": "acae6625-4895-49ca-8958-9f35ca25ffd6",
        "_uuid": "a255e330-24b4-4824-a845-2d03d997aebd",
        "colab": {
          "base_uri": "https://localhost:8080/"
        },
        "id": "7GasUqspVrVD",
        "outputId": "b0ef36f4-6d00-47db-9a70-b446a13e8622"
      },
      "outputs": [
        {
          "name": "stdout",
          "output_type": "stream",
          "text": [
            "   ACTIVITY      TIME         SL      EEG  BP   HR  CIRCLUATION DECISION\n",
            "0         3   4722.92    4019.64 -1600.00  13   79          317        1\n",
            "1         2   4059.12    2191.03 -1146.08  20   54          165        0\n",
            "2         2   4773.56    2787.99 -1263.38  46   67          224        0\n",
            "3         4   8271.27    9545.98 -2848.93  26  138          554        0\n",
            "4         4   7102.16   14148.80 -2381.15  85  120          809        0\n",
            "5         5   7015.24    7336.79 -1699.80  22   95          427        0\n",
            "6         3   8620.28   24949.90 -3198.06  35  157         1519        1\n",
            "7         3   9238.73   39245.50 -2590.00  15  196         1885        1\n",
            "8         0  12276.40   59742.00 -5101.00  56  249         2826        0\n",
            "9         4  14165.50  140950.00 -1410.00  82  315         5844        0\n"
          ]
        },
        {
          "name": "stderr",
          "output_type": "stream",
          "text": [
            "C:\\Users\\jaish\\AppData\\Local\\Temp/ipykernel_35956/55677429.py:10: SettingWithCopyWarning: \n",
            "A value is trying to be set on a copy of a slice from a DataFrame.\n",
            "Try using .loc[row_indexer,col_indexer] = value instead\n",
            "\n",
            "See the caveats in the documentation: https://pandas.pydata.org/pandas-docs/stable/user_guide/indexing.html#returning-a-view-versus-a-copy\n",
            "  dataframe_out['DECISION'] = DECISION\n"
          ]
        }
      ],
      "source": [
        "DECISION = []\n",
        "for i in dataframe_out['ACTIVITY']:\n",
        "    if i == 3:\n",
        "        DECISION.append('1')\n",
        "    else: \n",
        "        DECISION.append('0')\n",
        "dataframe_out['DECISION'] = DECISION\n",
        "print(dataframe_out.head(10))"
      ]
    },
    {
      "cell_type": "code",
      "execution_count": null,
      "metadata": {
        "_cell_guid": "ed234504-62fb-4901-87e1-78dbb8c95aef",
        "_uuid": "05d7de4e-e1e0-4904-a531-777b94a6efe9",
        "colab": {
          "base_uri": "https://localhost:8080/"
        },
        "id": "HiJ-VmoWVrVE",
        "outputId": "c9b9b570-bef2-4ffe-a292-1b6f0bb33552"
      },
      "outputs": [
        {
          "data": {
            "text/plain": [
              "0    11051\n",
              "1     3152\n",
              "Name: DECISION, dtype: int64"
            ]
          },
          "execution_count": 16,
          "metadata": {},
          "output_type": "execute_result"
        }
      ],
      "source": [
        "dataframe_out['DECISION'].value_counts().sort_index()"
      ]
    },
    {
      "cell_type": "markdown",
      "source": [
        "Split the dataset into x and y\n"
      ],
      "metadata": {
        "id": "iusu4KHpaMuk"
      }
    },
    {
      "cell_type": "code",
      "execution_count": null,
      "metadata": {
        "_cell_guid": "8bba1cae-9635-4e5e-9a1d-4f1e603fd899",
        "_uuid": "cc208f50-97ef-4d02-a417-c59fbb526aaa",
        "colab": {
          "base_uri": "https://localhost:8080/"
        },
        "id": "-nFhyLrGVrVE",
        "outputId": "3ea58753-bd91-4132-97b5-f0072fb105af"
      },
      "outputs": [
        {
          "name": "stdout",
          "output_type": "stream",
          "text": [
            "(14203, 6)\n",
            "(14203,)\n"
          ]
        }
      ],
      "source": [
        "X_Split = dataframe_out.iloc[:,1:7]\n",
        "Y_Split = dataframe_out['DECISION']\n",
        "print(X_Split.shape)\n",
        "print(Y_Split.shape)"
      ]
    },
    {
      "cell_type": "code",
      "execution_count": null,
      "metadata": {
        "_cell_guid": "30ab24c8-12a3-479f-bfb6-fb2c3fd1f3fc",
        "_uuid": "7c39ea15-b115-4495-aa06-d97e35d14ccd",
        "colab": {
          "base_uri": "https://localhost:8080/"
        },
        "id": "ovTdYNpJVrVE",
        "outputId": "11d11b64-2861-4dfb-e8bf-cd22551b12c5"
      },
      "outputs": [
        {
          "name": "stdout",
          "output_type": "stream",
          "text": [
            "       TIME         SL      EEG  BP   HR  CIRCLUATION\n",
            "0   4722.92    4019.64 -1600.00  13   79          317\n",
            "1   4059.12    2191.03 -1146.08  20   54          165\n",
            "2   4773.56    2787.99 -1263.38  46   67          224\n",
            "3   8271.27    9545.98 -2848.93  26  138          554\n",
            "4   7102.16   14148.80 -2381.15  85  120          809\n",
            "5   7015.24    7336.79 -1699.80  22   95          427\n",
            "6   8620.28   24949.90 -3198.06  35  157         1519\n",
            "7   9238.73   39245.50 -2590.00  15  196         1885\n",
            "8  12276.40   59742.00 -5101.00  56  249         2826\n",
            "9  14165.50  140950.00 -1410.00  82  315         5844\n"
          ]
        }
      ],
      "source": [
        "print(X_Split.head(10))"
      ]
    },
    {
      "cell_type": "code",
      "execution_count": null,
      "metadata": {
        "_cell_guid": "73d5645b-09aa-4d05-a26e-2b7664cff892",
        "_uuid": "b6977d9e-a5a4-4082-b022-5ad1255e3ac1",
        "colab": {
          "base_uri": "https://localhost:8080/"
        },
        "id": "9cPHLjznVrVH",
        "outputId": "12d07d90-7d0f-4a10-a057-9fb78d5a3fcd"
      },
      "outputs": [
        {
          "name": "stdout",
          "output_type": "stream",
          "text": [
            "0    1\n",
            "1    0\n",
            "2    0\n",
            "3    0\n",
            "4    0\n",
            "5    0\n",
            "6    1\n",
            "7    1\n",
            "8    0\n",
            "9    0\n",
            "Name: DECISION, dtype: object\n"
          ]
        }
      ],
      "source": [
        "print(Y_Split.head(10))"
      ]
    },
    {
      "cell_type": "markdown",
      "source": [
        "1. Split dataset into train and test.\n",
        "2. Also applied the standard scaling to get optimized result."
      ],
      "metadata": {
        "id": "8qREv5uOaQoB"
      }
    },
    {
      "cell_type": "code",
      "execution_count": null,
      "metadata": {
        "_cell_guid": "ec38b5ad-e877-4e8d-9e56-818ddca48426",
        "_uuid": "0224a496-06e5-4b63-b03b-f300b01a5591",
        "colab": {
          "base_uri": "https://localhost:8080/"
        },
        "id": "G8UyzKdNVrVJ",
        "outputId": "d6ff0740-b6e3-4d66-d717-86e40889485d"
      },
      "outputs": [
        {
          "name": "stdout",
          "output_type": "stream",
          "text": [
            "(12782, 6)\n",
            "(12782,)\n",
            "(1421, 6)\n",
            "(1421,)\n"
          ]
        }
      ],
      "source": [
        "X_Train, X_Test, Y_Train, Y_Test = train_test_split(X_Split, Y_Split, test_size=0.1, random_state=50)\n",
        "SC = StandardScaler()\n",
        "X_Train = SC.fit_transform(X_Train)\n",
        "X_Test = SC.fit_transform(X_Test)\n"
      ]
    },
    {
      "cell_type": "markdown",
      "source": [
        "1. Perform K-Nearest Neighbors Classifier.\n",
        "2. Print confusion matrix and accuracy score\n"
      ],
      "metadata": {
        "id": "1-FBc_s2ahFC"
      }
    },
    {
      "cell_type": "code",
      "execution_count": null,
      "metadata": {
        "_cell_guid": "fb9cc2ee-06cd-4b08-945c-5af7dead42bb",
        "_uuid": "968c1a72-2519-4895-a4c9-ef6ecf63c198",
        "colab": {
          "base_uri": "https://localhost:8080/"
        },
        "id": "CnNfEaQUVrVL",
        "outputId": "367a9331-187c-4a02-bd6a-20afbfbff19c"
      },
      "outputs": [
        {
          "name": "stdout",
          "output_type": "stream",
          "text": [
            "[[991 141]\n",
            " [107 182]]\n",
            "Accuracy Score : 0.83\n",
            "Classification Report :\n",
            "              precision    recall  f1-score   support\n",
            "\n",
            "           0       0.90      0.88      0.89      1132\n",
            "           1       0.56      0.63      0.59       289\n",
            "\n",
            "    accuracy                           0.83      1421\n",
            "   macro avg       0.73      0.75      0.74      1421\n",
            "weighted avg       0.83      0.83      0.83      1421\n",
            "\n"
          ]
        }
      ],
      "source": [
        "KNN = KNeighborsClassifier()\n",
        "KNN.fit(X_Train,Y_Train)\n",
        "KNN_Pred = KNN.predict(X_Test)\n",
        "Confusion_Matrix = confusion_matrix(Y_Test, KNN_Pred)\n",
        "Accuracy_Score = accuracy_score(Y_Test, KNN_Pred)\n",
        "Classification_Report = classification_report(Y_Test, KNN_Pred) \n",
        "print(Confusion_Matrix)\n",
        "print('Accuracy Score :', '%.2f' %Accuracy_Score)\n",
        "print('Classification Report :')\n",
        "print(Classification_Report)"
      ]
    },
    {
      "cell_type": "markdown",
      "source": [
        "1. Perform Random Forest Classifier.\n",
        "2. Print confusion matrix and accuracy score."
      ],
      "metadata": {
        "id": "0RRUt-h0a7mD"
      }
    },
    {
      "cell_type": "code",
      "execution_count": null,
      "metadata": {
        "_cell_guid": "63bc02b1-a526-466f-9bd9-8329c84d7355",
        "_uuid": "4ce9e284-2983-4f8a-bf52-4566d898e7e7",
        "colab": {
          "base_uri": "https://localhost:8080/"
        },
        "id": "0_a9dpduVrVL",
        "outputId": "078adaaa-619d-4148-e251-abfb374a7a30"
      },
      "outputs": [
        {
          "name": "stdout",
          "output_type": "stream",
          "text": [
            "[[1096   36]\n",
            " [ 219   70]]\n",
            "Accuracy Score : 0.82\n",
            "Classification Report :\n",
            "              precision    recall  f1-score   support\n",
            "\n",
            "           0       0.83      0.97      0.90      1132\n",
            "           1       0.66      0.24      0.35       289\n",
            "\n",
            "    accuracy                           0.82      1421\n",
            "   macro avg       0.75      0.61      0.63      1421\n",
            "weighted avg       0.80      0.82      0.79      1421\n",
            "\n"
          ]
        }
      ],
      "source": [
        "# Perform \n",
        "RF = RandomForestClassifier()\n",
        "RF.fit(X_Train,Y_Train)\n",
        "RF_Pred = RF.predict(X_Test)\n",
        "Confusion_Matrix_RF = confusion_matrix(Y_Test, RF_Pred)\n",
        "Accuracy_Score_RF = accuracy_score(Y_Test, RF_Pred)\n",
        "Classification_Report_RF = classification_report(Y_Test, RF_Pred) \n",
        "print(Confusion_Matrix_RF)\n",
        "print('Accuracy Score :', '%.2f' %Accuracy_Score_RF)\n",
        "print('Classification Report :')\n",
        "print(Classification_Report_RF)"
      ]
    },
    {
      "cell_type": "markdown",
      "source": [
        "1. Perform SVM Classifier.\n",
        "2. Print confusion matrix and accuracy score."
      ],
      "metadata": {
        "id": "kaiD_A-ebDLP"
      }
    },
    {
      "cell_type": "code",
      "execution_count": null,
      "metadata": {
        "_cell_guid": "42f9f026-379b-4f9a-a2c9-f6a4f923ba0e",
        "_uuid": "ba687de4-4ddc-47b1-9e3b-1762e9ecbf28",
        "colab": {
          "base_uri": "https://localhost:8080/"
        },
        "id": "Ujn3Z0vEVrVM",
        "outputId": "f85ab778-7d4e-4c97-f47c-db333dc6544f"
      },
      "outputs": [
        {
          "name": "stdout",
          "output_type": "stream",
          "text": [
            "[[1123    9]\n",
            " [ 275   14]]\n",
            "Accuracy Score : 0.80\n",
            "Classification Report :\n",
            "              precision    recall  f1-score   support\n",
            "\n",
            "           0       0.80      0.99      0.89      1132\n",
            "           1       0.61      0.05      0.09       289\n",
            "\n",
            "    accuracy                           0.80      1421\n",
            "   macro avg       0.71      0.52      0.49      1421\n",
            "weighted avg       0.76      0.80      0.73      1421\n",
            "\n"
          ]
        }
      ],
      "source": [
        "Svc = SVC()\n",
        "Svc.fit(X_Train,Y_Train)\n",
        "SVC_Pred = Svc.predict(X_Test)\n",
        "Confusion_Matrix_SVC = confusion_matrix(Y_Test, SVC_Pred)\n",
        "Accuracy_Score_SVC = accuracy_score(Y_Test, SVC_Pred)\n",
        "Classification_Report_SVC = classification_report(Y_Test, SVC_Pred) \n",
        "print(Confusion_Matrix_SVC)\n",
        "print('Accuracy Score :', '%.2f' %Accuracy_Score_SVC)\n",
        "print('Classification Report :')\n",
        "print(Classification_Report_SVC)"
      ]
    },
    {
      "cell_type": "markdown",
      "source": [
        "Declaring K-Fold Size = 10 to perfrom Cross validation"
      ],
      "metadata": {
        "id": "zkC2tY2NbOYw"
      }
    },
    {
      "cell_type": "code",
      "execution_count": null,
      "metadata": {
        "_cell_guid": "974df6f0-f7fb-4372-9891-7438bf7fb908",
        "_uuid": "2557cbc2-e521-4c72-aa75-6544f268fbec",
        "colab": {
          "base_uri": "https://localhost:8080/"
        },
        "id": "d-AqtnpHVrVN",
        "outputId": "d7a85ca8-dcbb-4293-ee2a-ff00a85609e9"
      },
      "outputs": [
        {
          "name": "stdout",
          "output_type": "stream",
          "text": [
            "[0.87051372 0.8747361  0.85643913 0.86267606 0.8584507  0.86690141\n",
            " 0.86760563 0.87746479 0.86760563 0.87464789]\n",
            "Mean accuracy :\n",
            "0.87\n"
          ]
        }
      ],
      "source": [
        "Score = cross_val_score(RF, X_Split, Y_Split, cv=10)\n",
        "print(Score)\n",
        "print('Mean accuracy :')\n",
        "print('%.2f' %Score.mean())"
      ]
    },
    {
      "cell_type": "markdown",
      "source": [
        "K Fold Cross validation with KNN classifier"
      ],
      "metadata": {
        "id": "UfI4cCVkbby5"
      }
    },
    {
      "cell_type": "code",
      "execution_count": null,
      "metadata": {
        "_cell_guid": "d3c7a796-19ba-4de9-8f84-1006df7633d3",
        "_uuid": "9efcdb19-1828-4665-b607-d5aa152e416b",
        "colab": {
          "base_uri": "https://localhost:8080/"
        },
        "id": "4VhH_R0NVrVN",
        "outputId": "e20f4b32-4ab8-4ede-a102-dc7475340d31"
      },
      "outputs": [
        {
          "name": "stdout",
          "output_type": "stream",
          "text": [
            "[0.82899367 0.82899367 0.82617875 0.82535211 0.81690141 0.83309859\n",
            " 0.84225352 0.85       0.81901408 0.83239437]\n",
            "Mean accuracy :\n",
            "0.83\n"
          ]
        }
      ],
      "source": [
        "Score = cross_val_score(KNN, X_Split, Y_Split, cv=10)\n",
        "print(Score)\n",
        "print('Mean accuracy :')\n",
        "print('%.2f' %Score.mean())"
      ]
    },
    {
      "cell_type": "markdown",
      "source": [
        "Set up Stratified K Fold Cross Validation with n_splits=10\n"
      ],
      "metadata": {
        "id": "sCe-eY0pbidB"
      }
    },
    {
      "cell_type": "code",
      "execution_count": null,
      "metadata": {
        "_cell_guid": "77d2461f-cade-4cfc-995f-7df979782084",
        "_uuid": "d9b8f110-a439-4488-bef5-877d714a4276",
        "colab": {
          "base_uri": "https://localhost:8080/"
        },
        "id": "El-UkAo8VrVN",
        "outputId": "f3566b01-82cd-4277-eb3e-9de3ef8726b2"
      },
      "outputs": [
        {
          "data": {
            "text/plain": [
              "10"
            ]
          },
          "execution_count": 29,
          "metadata": {},
          "output_type": "execute_result"
        }
      ],
      "source": [
        "\n",
        "K_Fold = StratifiedKFold(n_splits=10, random_state=None)\n",
        "K_Fold.get_n_splits(X_Split,Y_Split)"
      ]
    },
    {
      "cell_type": "markdown",
      "source": [
        "K Fold Cross validation with Random Forest classifier"
      ],
      "metadata": {
        "id": "_kqqf0AFbsvm"
      }
    },
    {
      "cell_type": "code",
      "execution_count": null,
      "metadata": {
        "_cell_guid": "6101fdbf-319a-43e9-9459-a814cb1a13f8",
        "_uuid": "f675633e-a415-420a-8832-9a626f4aaee2",
        "colab": {
          "base_uri": "https://localhost:8080/"
        },
        "id": "YMlnC0qmVrVO",
        "outputId": "21d5e4d4-c2c6-4672-d623-23bc54ea17d9"
      },
      "outputs": [
        {
          "name": "stdout",
          "output_type": "stream",
          "text": [
            "[0.8662913441238564, 0.8641801548205489, 0.8508092892329345, 0.8612676056338028, 0.8598591549295774, 0.8640845070422535, 0.8683098591549295, 0.8838028169014085, 0.8732394366197183, 0.8739436619718309]\n",
            "Mean accuracy :\n",
            "0.87\n"
          ]
        }
      ],
      "source": [
        "\n",
        "ACCURACY = []\n",
        "\n",
        "for IDX_Train, IDX_Test in K_Fold.split(X_Split, Y_Split):\n",
        "    #print('Train :' , train_index, 'Test : ', test_index)\n",
        "    X1_train, X1_test = X_Split.iloc[IDX_Train], X_Split.iloc[IDX_Test]\n",
        "    y1_train, y1_test = Y_Split.iloc[IDX_Train], Y_Split.iloc[IDX_Test]\n",
        "    \n",
        "    RF.fit(X1_train, y1_train)\n",
        "    Test_Prediction = RF.predict(X1_test)\n",
        "    Accuracy_Score = accuracy_score(Test_Prediction, y1_test)\n",
        "    ACCURACY.append(Accuracy_Score)\n",
        "    \n",
        "print(ACCURACY)\n",
        "print('Mean accuracy :')\n",
        "print('%.2f' %np.array(ACCURACY).mean())"
      ]
    },
    {
      "cell_type": "markdown",
      "source": [
        "K Fold Cross validation with K Nearest Neighbour classifier.\n",
        "\n",
        "\n",
        "\n",
        "\n"
      ],
      "metadata": {
        "id": "rrNjngh7byee"
      }
    },
    {
      "cell_type": "code",
      "execution_count": null,
      "metadata": {
        "_cell_guid": "fbcd9e9f-74f8-45f5-8fcb-12f2a2554d0a",
        "_uuid": "4d75fd9f-9e28-4c85-9a85-f5f8af97a54c",
        "colab": {
          "base_uri": "https://localhost:8080/"
        },
        "id": "OCXAMiVzVrVO",
        "outputId": "5cada58a-3e4c-4244-bccf-a1b49e41c610"
      },
      "outputs": [
        {
          "name": "stdout",
          "output_type": "stream",
          "text": [
            "[0.82899366643209, 0.82899366643209, 0.8261787473610134, 0.8253521126760563, 0.8169014084507042, 0.8330985915492958, 0.8422535211267606, 0.85, 0.8190140845070423, 0.8323943661971831]\n",
            "Mean accuracy :\n",
            "0.83\n"
          ]
        }
      ],
      "source": [
        "\n",
        "ACCURACY_KNN = []\n",
        "\n",
        "for IDX_Train, IDX_Test in K_Fold.split(X_Split, Y_Split):\n",
        "    #print('Train :' , train_index, 'Test : ', test_index)\n",
        "    X1_train, X1_test = X_Split.iloc[IDX_Train], X_Split.iloc[IDX_Test]\n",
        "    y1_train, y1_test = Y_Split.iloc[IDX_Train], Y_Split.iloc[IDX_Test]\n",
        "    \n",
        "    KNN.fit(X1_train, y1_train)\n",
        "    Test_Prediction = KNN.predict(X1_test)\n",
        "    Accuracy_Score = accuracy_score(Test_Prediction, y1_test)\n",
        "    ACCURACY_KNN.append(Accuracy_Score)\n",
        "    \n",
        "print(ACCURACY_KNN)\n",
        "print('Mean accuracy :')\n",
        "print('%.2f' %np.array(ACCURACY_KNN).mean())"
      ]
    },
    {
      "cell_type": "markdown",
      "source": [
        "K Fold Cross validation with Support Vector Machine."
      ],
      "metadata": {
        "id": "DEbFj6rJb_0G"
      }
    },
    {
      "cell_type": "code",
      "execution_count": null,
      "metadata": {
        "colab": {
          "base_uri": "https://localhost:8080/"
        },
        "id": "1pXa6AXxeQla",
        "outputId": "f0e44494-5a85-4ca1-95c4-379a425eed09"
      },
      "outputs": [
        {
          "name": "stdout",
          "output_type": "stream",
          "text": [
            "[0.7776213933849402, 0.7776213933849402, 0.7783251231527094, 0.778169014084507, 0.778169014084507, 0.778169014084507, 0.778169014084507, 0.778169014084507, 0.778169014084507, 0.778169014084507]\n",
            "Mean accuracy :\n",
            "0.78\n"
          ]
        }
      ],
      "source": [
        "\n",
        "ACCURACY_SVC = []\n",
        "\n",
        "for IDX_Train, IDX_Test in K_Fold.split(X_Split, Y_Split):\n",
        "    X1_train, X1_test = X_Split.iloc[IDX_Train], X_Split.iloc[IDX_Test]\n",
        "    y1_train, y1_test = Y_Split.iloc[IDX_Train], Y_Split.iloc[IDX_Test]\n",
        "    \n",
        "    Svc.fit(X1_train, y1_train)\n",
        "    Test_Prediction = Svc.predict(X1_test)\n",
        "    Accuracy_Score = accuracy_score(Test_Prediction, y1_test)\n",
        "    ACCURACY_SVC.append(Accuracy_Score)\n",
        "    \n",
        "print(ACCURACY_SVC)\n",
        "print('Mean accuracy :')\n",
        "print('%.2f' %np.array(ACCURACY_SVC).mean())"
      ]
    },
    {
      "cell_type": "markdown",
      "metadata": {
        "id": "PWoei3eZYLGh"
      },
      "source": [
        "FEATURE IMPORTANCE"
      ]
    },
    {
      "cell_type": "code",
      "execution_count": null,
      "metadata": {
        "id": "8ZqcZqa9YLGi"
      },
      "outputs": [],
      "source": [
        "import matplotlib.pyplot as plt"
      ]
    },
    {
      "cell_type": "code",
      "execution_count": null,
      "metadata": {
        "id": "Wb8Ci5AaYLGi",
        "outputId": "cae1051f-8242-4322-dba1-0658b5a163c1"
      },
      "outputs": [
        {
          "data": {
            "text/plain": [
              "RandomForestClassifier(random_state=0)"
            ]
          },
          "execution_count": 40,
          "metadata": {},
          "output_type": "execute_result"
        }
      ],
      "source": [
        "RF_Model = RandomForestClassifier(random_state=0)\n",
        "RF_Model.fit(X_Split,Y_Split)\n"
      ]
    },
    {
      "cell_type": "code",
      "execution_count": null,
      "metadata": {
        "id": "rCloJ-pNYLGj",
        "outputId": "fe6a01eb-9a12-4940-e0f6-98842c226637"
      },
      "outputs": [
        {
          "name": "stdout",
          "output_type": "stream",
          "text": [
            "[0.18642868 0.24456375 0.1938805  0.15733357 0.10439045 0.11340306]\n"
          ]
        },
        {
          "data": {
            "image/png": "[encoded data removed]",
            "text/plain": [
              "<Figure size 432x288 with 1 Axes>"
            ]
          },
          "metadata": {},
          "output_type": "display_data"
        }
      ],
      "source": [
        "print(RF_Model.feature_importances_) \n",
        "Importances = pd.Series(RF_Model.feature_importances_, index=X_Split.columns)\n",
        "Importances.nlargest(10).plot(kind='barh')\n",
        "plt.show()"
      ]
    },
    {
      "cell_type": "code",
      "execution_count": null,
      "metadata": {
        "id": "wGx-V0tlYLGj",
        "outputId": "8c6a10f4-a61f-4fbf-9a32-53456a501882"
      },
      "outputs": [
        {
          "data": {
            "image/png": "[encoded data removed]",
            "text/plain": [
              "<Figure size 432x288 with 1 Axes>"
            ]
          },
          "metadata": {},
          "output_type": "display_data"
        }
      ],
      "source": [
        "import pandas as pd\n",
        "\n",
        "Std = np.std([tree.feature_importances_ for tree in RF_Model.estimators_], axis=0)\n",
        "figure, axes = plt.subplots()\n",
        "Importances.plot.bar(yerr=Std, ax=axes)\n",
        "axes.set_title(\"Feature importances\")\n",
        "axes.set_ylabel(\"Mean decrease in impurity\")\n",
        "figure.tight_layout()"
      ]
    },
    {
      "cell_type": "markdown",
      "metadata": {
        "id": "jTt_nwKuYLGk"
      },
      "source": [
        "FORWARD FEATURE SELECTION"
      ]
    },
    {
      "cell_type": "code",
      "execution_count": null,
      "metadata": {
        "id": "fd37QPAyYLGk"
      },
      "outputs": [],
      "source": [
        "# Importing the necessary libraries\n",
        "from mlxtend.feature_selection import SequentialFeatureSelector as SFS\n",
        "\n",
        "# Sequential Forward Selection\n",
        "sfs = SFS(RandomForestClassifier(),\n",
        "          k_features=4,\n",
        "          forward=True,\n",
        "          floating=False,\n",
        "          scoring = 'accuracy',\n",
        "          cv = 0)"
      ]
    },
    {
      "cell_type": "code",
      "execution_count": null,
      "metadata": {
        "id": "vHmIslEJYLGk",
        "outputId": "cfbd33d3-dc73-4228-878d-24d4e228c3e1"
      },
      "outputs": [
        {
          "data": {
            "text/plain": [
              "('TIME', 'SL', 'EEG', 'BP')"
            ]
          },
          "execution_count": 46,
          "metadata": {},
          "output_type": "execute_result"
        }
      ],
      "source": [
        "sfs.fit(X_Split, Y_Split)\n",
        "sfs.k_feature_names_"
      ]
    },
    {
      "cell_type": "markdown",
      "metadata": {
        "id": "JflLpwCPYLGk"
      },
      "source": [
        "FORWARD FEATURE SELECTION WITH n FEATURES"
      ]
    },
    {
      "cell_type": "code",
      "execution_count": null,
      "metadata": {
        "id": "pACF6iNfYLGl",
        "outputId": "a863502e-a31d-413e-81af-32f17a6bc8a8"
      },
      "outputs": [
        {
          "name": "stdout",
          "output_type": "stream",
          "text": [
            "   ACTIVITY      TIME         SL      EEG  BP   HR  CIRCLUATION\n",
            "0         3   4722.92    4019.64 -1600.00  13   79          317\n",
            "1         2   4059.12    2191.03 -1146.08  20   54          165\n",
            "2         2   4773.56    2787.99 -1263.38  46   67          224\n",
            "3         4   8271.27    9545.98 -2848.93  26  138          554\n",
            "4         4   7102.16   14148.80 -2381.15  85  120          809\n",
            "5         5   7015.24    7336.79 -1699.80  22   95          427\n",
            "6         3   8620.28   24949.90 -3198.06  35  157         1519\n",
            "7         3   9238.73   39245.50 -2590.00  15  196         1885\n",
            "8         0  12276.40   59742.00 -5101.00  56  249         2826\n",
            "9         4  14165.50  140950.00 -1410.00  82  315         5844\n"
          ]
        }
      ],
      "source": [
        "# Reading data from csv file\n",
        "df1 = pd.read_csv(\"C:/Users/jaish/Downloads/ResearchMethodology/Project/Final/falldetection.csv\", sep=\",\")\n",
        "print(df1.head(10))\n"
      ]
    },
    {
      "cell_type": "code",
      "execution_count": null,
      "metadata": {
        "id": "1xAhcReUYLGl"
      },
      "outputs": [],
      "source": [
        "dataframe_1=df1.drop(columns=['HR','CIRCLUATION'])"
      ]
    },
    {
      "cell_type": "code",
      "execution_count": null,
      "metadata": {
        "id": "yU75_oTHYLGl",
        "outputId": "d9f2c081-55c0-48b4-c015-909ca5243169"
      },
      "outputs": [
        {
          "data": {
            "text/html": [
              "<div>\n",
              "<style scoped>\n",
              "    .dataframe tbody tr th:only-of-type {\n",
              "        vertical-align: middle;\n",
              "    }\n",
              "\n",
              "    .dataframe tbody tr th {\n",
              "        vertical-align: top;\n",
              "    }\n",
              "\n",
              "    .dataframe thead th {\n",
              "        text-align: right;\n",
              "    }\n",
              "</style>\n",
              "<table border=\"1\" class=\"dataframe\">\n",
              "  <thead>\n",
              "    <tr style=\"text-align: right;\">\n",
              "      <th></th>\n",
              "      <th>ACTIVITY</th>\n",
              "      <th>TIME</th>\n",
              "      <th>SL</th>\n",
              "      <th>EEG</th>\n",
              "      <th>BP</th>\n",
              "    </tr>\n",
              "  </thead>\n",
              "  <tbody>\n",
              "    <tr>\n",
              "      <th>0</th>\n",
              "      <td>3</td>\n",
              "      <td>4722.92</td>\n",
              "      <td>4019.64</td>\n",
              "      <td>-1600.00</td>\n",
              "      <td>13</td>\n",
              "    </tr>\n",
              "    <tr>\n",
              "      <th>1</th>\n",
              "      <td>2</td>\n",
              "      <td>4059.12</td>\n",
              "      <td>2191.03</td>\n",
              "      <td>-1146.08</td>\n",
              "      <td>20</td>\n",
              "    </tr>\n",
              "    <tr>\n",
              "      <th>2</th>\n",
              "      <td>2</td>\n",
              "      <td>4773.56</td>\n",
              "      <td>2787.99</td>\n",
              "      <td>-1263.38</td>\n",
              "      <td>46</td>\n",
              "    </tr>\n",
              "    <tr>\n",
              "      <th>3</th>\n",
              "      <td>4</td>\n",
              "      <td>8271.27</td>\n",
              "      <td>9545.98</td>\n",
              "      <td>-2848.93</td>\n",
              "      <td>26</td>\n",
              "    </tr>\n",
              "    <tr>\n",
              "      <th>4</th>\n",
              "      <td>4</td>\n",
              "      <td>7102.16</td>\n",
              "      <td>14148.80</td>\n",
              "      <td>-2381.15</td>\n",
              "      <td>85</td>\n",
              "    </tr>\n",
              "    <tr>\n",
              "      <th>...</th>\n",
              "      <td>...</td>\n",
              "      <td>...</td>\n",
              "      <td>...</td>\n",
              "      <td>...</td>\n",
              "      <td>...</td>\n",
              "    </tr>\n",
              "    <tr>\n",
              "      <th>16377</th>\n",
              "      <td>4</td>\n",
              "      <td>9280.68</td>\n",
              "      <td>11417.00</td>\n",
              "      <td>-3021.64</td>\n",
              "      <td>36</td>\n",
              "    </tr>\n",
              "    <tr>\n",
              "      <th>16378</th>\n",
              "      <td>3</td>\n",
              "      <td>8479.69</td>\n",
              "      <td>9455.54</td>\n",
              "      <td>-2932.85</td>\n",
              "      <td>17</td>\n",
              "    </tr>\n",
              "    <tr>\n",
              "      <th>16379</th>\n",
              "      <td>2</td>\n",
              "      <td>8872.53</td>\n",
              "      <td>27449.90</td>\n",
              "      <td>-2870.00</td>\n",
              "      <td>33</td>\n",
              "    </tr>\n",
              "    <tr>\n",
              "      <th>16380</th>\n",
              "      <td>4</td>\n",
              "      <td>7738.99</td>\n",
              "      <td>26466.40</td>\n",
              "      <td>-2920.24</td>\n",
              "      <td>97</td>\n",
              "    </tr>\n",
              "    <tr>\n",
              "      <th>16381</th>\n",
              "      <td>3</td>\n",
              "      <td>9368.34</td>\n",
              "      <td>39149.10</td>\n",
              "      <td>-2970.00</td>\n",
              "      <td>21</td>\n",
              "    </tr>\n",
              "  </tbody>\n",
              "</table>\n",
              "<p>16382 rows × 5 columns</p>\n",
              "</div>"
            ],
            "text/plain": [
              "       ACTIVITY     TIME        SL      EEG  BP\n",
              "0             3  4722.92   4019.64 -1600.00  13\n",
              "1             2  4059.12   2191.03 -1146.08  20\n",
              "2             2  4773.56   2787.99 -1263.38  46\n",
              "3             4  8271.27   9545.98 -2848.93  26\n",
              "4             4  7102.16  14148.80 -2381.15  85\n",
              "...         ...      ...       ...      ...  ..\n",
              "16377         4  9280.68  11417.00 -3021.64  36\n",
              "16378         3  8479.69   9455.54 -2932.85  17\n",
              "16379         2  8872.53  27449.90 -2870.00  33\n",
              "16380         4  7738.99  26466.40 -2920.24  97\n",
              "16381         3  9368.34  39149.10 -2970.00  21\n",
              "\n",
              "[16382 rows x 5 columns]"
            ]
          },
          "execution_count": 70,
          "metadata": {},
          "output_type": "execute_result"
        }
      ],
      "source": [
        "dataframe_1"
      ]
    },
    {
      "cell_type": "code",
      "execution_count": null,
      "metadata": {
        "id": "e-6xqG20YLGl",
        "outputId": "e46426ba-be77-4fb4-8b31-cb60c52c76ff"
      },
      "outputs": [
        {
          "data": {
            "text/plain": [
              "(14203, 5)"
            ]
          },
          "execution_count": 71,
          "metadata": {},
          "output_type": "execute_result"
        }
      ],
      "source": [
        "Quantile3 = dataframe_1.quantile(0.25)\n",
        "Quantile4 = dataframe_1.quantile(0.75)\n",
        "Quantile_Difference = Quantile4 - Quantile3\n",
        "dfout_1 = dataframe_1[~((dataframe_1 < (Quantile3 - 1.5 * Quantile_Difference)) |(dataframe_1 > (Quantile4 + 1.5 * Quantile_Difference))).any(axis=1)]\n",
        "dfout_1.shape\n",
        "\n"
      ]
    },
    {
      "cell_type": "code",
      "execution_count": null,
      "metadata": {
        "id": "mW5JMkJ9YLGm",
        "outputId": "1f836ba1-96c5-4c2e-acbf-0dfe900d101b"
      },
      "outputs": [
        {
          "name": "stdout",
          "output_type": "stream",
          "text": [
            "   ACTIVITY      TIME         SL      EEG  BP DECISION\n",
            "0         3   4722.92    4019.64 -1600.00  13        1\n",
            "1         2   4059.12    2191.03 -1146.08  20        0\n",
            "2         2   4773.56    2787.99 -1263.38  46        0\n",
            "3         4   8271.27    9545.98 -2848.93  26        0\n",
            "4         4   7102.16   14148.80 -2381.15  85        0\n",
            "5         5   7015.24    7336.79 -1699.80  22        0\n",
            "6         3   8620.28   24949.90 -3198.06  35        1\n",
            "7         3   9238.73   39245.50 -2590.00  15        1\n",
            "8         0  12276.40   59742.00 -5101.00  56        0\n",
            "9         4  14165.50  140950.00 -1410.00  82        0\n"
          ]
        },
        {
          "name": "stderr",
          "output_type": "stream",
          "text": [
            "C:\\Users\\jaish\\AppData\\Local\\Temp/ipykernel_35956/3311375257.py:11: SettingWithCopyWarning: \n",
            "A value is trying to be set on a copy of a slice from a DataFrame.\n",
            "Try using .loc[row_indexer,col_indexer] = value instead\n",
            "\n",
            "See the caveats in the documentation: https://pandas.pydata.org/pandas-docs/stable/user_guide/indexing.html#returning-a-view-versus-a-copy\n",
            "  dfout_1['DECISION'] = DECISION\n"
          ]
        }
      ],
      "source": [
        "\n",
        "DECISION = []\n",
        "for i in dfout_1['ACTIVITY']:\n",
        "    if i == 3:\n",
        "        DECISION.append('1')\n",
        "    else: \n",
        "        DECISION.append('0')\n",
        "dfout_1['DECISION'] = DECISION\n",
        "print(dfout_1.head(10))"
      ]
    },
    {
      "cell_type": "code",
      "execution_count": null,
      "metadata": {
        "id": "sbm0ytkPYLGm",
        "outputId": "ead893c3-c607-4403-cfbd-fedf126e1279"
      },
      "outputs": [
        {
          "name": "stdout",
          "output_type": "stream",
          "text": [
            "(14203, 4)\n",
            "(14203,)\n"
          ]
        }
      ],
      "source": [
        "X_split1 = dfout_1[['TIME','SL','EEG','BP']]\n",
        "Y_split1 = dfout_1['DECISION']\n",
        "print(X_split1.shape)\n",
        "print(Y_split1.shape)\n"
      ]
    },
    {
      "cell_type": "code",
      "execution_count": null,
      "metadata": {
        "id": "u3a6vA7vYLGm",
        "outputId": "338a6c1d-32f4-460d-b643-15fde47cf714"
      },
      "outputs": [
        {
          "name": "stdout",
          "output_type": "stream",
          "text": [
            "(12782, 4)\n",
            "(12782,)\n",
            "(1421, 4)\n",
            "(1421,)\n"
          ]
        }
      ],
      "source": [
        "X_train1, X_test1, y_train1, y_test1 = train_test_split(X_split1, Y_split1, test_size=0.1, random_state=50)\n",
        "sc1 = StandardScaler()\n",
        "#sc = MinMaxScaler()\n",
        "X_train1 = sc1.fit_transform(X_train1)\n",
        "X_test1 = sc1.fit_transform(X_test1)\n",
        "\n",
        "print(X_train1.shape)\n",
        "print(y_train1.shape)\n",
        "print(X_test1.shape)\n",
        "print(y_test1.shape)"
      ]
    },
    {
      "cell_type": "markdown",
      "source": [
        "Perform Random Forest Classifier with Feature Importance and Forward Feature Selection.\n",
        "\n",
        "\n"
      ],
      "metadata": {
        "id": "GPaLwDIwcTlg"
      }
    },
    {
      "cell_type": "code",
      "execution_count": null,
      "metadata": {
        "id": "-5m3UBLHYLGm",
        "outputId": "52b2243f-1987-4e79-e161-756ab54a948f"
      },
      "outputs": [
        {
          "name": "stdout",
          "output_type": "stream",
          "text": [
            "[[1051   81]\n",
            " [ 162  127]]\n",
            "Accuracy Score : 0.83\n",
            "Classification Report :\n",
            "              precision    recall  f1-score   support\n",
            "\n",
            "           0       0.87      0.93      0.90      1132\n",
            "           1       0.61      0.44      0.51       289\n",
            "\n",
            "    accuracy                           0.83      1421\n",
            "   macro avg       0.74      0.68      0.70      1421\n",
            "weighted avg       0.81      0.83      0.82      1421\n",
            "\n"
          ]
        }
      ],
      "source": [
        "rf = RandomForestClassifier()\n",
        "rf.fit(X_train1,y_train1)\n",
        "rf_predict = rf.predict(X_test1)\n",
        "\n",
        "# Print confusion matrix and accuracy score\n",
        "rf_conf_matrix = confusion_matrix(y_test1, rf_predict)\n",
        "rf_acc_score = accuracy_score(y_test1, rf_predict)\n",
        "rf_class_report = classification_report(y_test1, rf_predict)\n",
        "print(rf_conf_matrix)\n",
        "print('Accuracy Score :','%.2f' %rf_acc_score)\n",
        "print('Classification Report :')\n",
        "print(rf_class_report)"
      ]
    },
    {
      "cell_type": "code",
      "execution_count": null,
      "metadata": {
        "id": "jjbInK7aYLGm",
        "outputId": "f4a6a29c-d21c-4ade-b820-8e069bb89980"
      },
      "outputs": [
        {
          "data": {
            "text/plain": [
              "10"
            ]
          },
          "execution_count": 79,
          "metadata": {},
          "output_type": "execute_result"
        }
      ],
      "source": [
        "skf = StratifiedKFold(n_splits=10, random_state=None)\n",
        "skf.get_n_splits(X_split1,Y_split1)"
      ]
    },
    {
      "cell_type": "code",
      "execution_count": null,
      "metadata": {
        "id": "TODTYkm_YLGn",
        "outputId": "59229f6b-b774-4e3d-de0e-8a5f84b61702"
      },
      "outputs": [
        {
          "name": "stdout",
          "output_type": "stream",
          "text": [
            "[0.8536242083040113, 0.8522167487684729, 0.8409570724841661, 0.8485915492957746, 0.8457746478873239, 0.8401408450704225, 0.8422535211267606, 0.8647887323943662, 0.8633802816901408, 0.8591549295774648]\n",
            "Mean accuracy :\n",
            "0.85\n"
          ]
        }
      ],
      "source": [
        "accuracy=[]\n",
        "\n",
        "for train_index, test_index in skf.split(X_split1, Y_split1):\n",
        "    #print('Train :' , train_index, 'Test : ', test_index)\n",
        "    X1_train1, X1_test1 = X_split1.iloc[train_index], X_split1.iloc[test_index]\n",
        "    y1_train1, y1_test1 = Y_split1.iloc[train_index], Y_split1.iloc[test_index]\n",
        "    \n",
        "    rf.fit(X1_train1, y1_train1)\n",
        "    prediction = rf.predict(X1_test1)\n",
        "    score = accuracy_score(prediction, y1_test1)\n",
        "    accuracy.append(score)\n",
        "    \n",
        "print(accuracy)\n",
        "print('Mean accuracy :')\n",
        "print('%.2f' %np.array(accuracy).mean())"
      ]
    },
    {
      "cell_type": "code",
      "execution_count": null,
      "metadata": {
        "id": "4fdP2mBRYLGn"
      },
      "outputs": [],
      "source": [
        ""
      ]
    }
  ],
  "metadata": {
    "accelerator": "GPU",
    "colab": {
      "collapsed_sections": [],
      "name": "Fall_Detection_Implementation.ipynb",
      "provenance": []
    },
    "kernelspec": {
      "display_name": "Python 3",
      "language": "python",
      "name": "python3"
    },
    "language_info": {
      "codemirror_mode": {
        "name": "ipython",
        "version": 3
      },
      "file_extension": ".py",
      "mimetype": "text/x-python",
      "name": "python",
      "nbconvert_exporter": "python",
      "pygments_lexer": "ipython3",
      "version": "3.9.7"
    }
  },
  "nbformat": 4,
  "nbformat_minor": 0
}